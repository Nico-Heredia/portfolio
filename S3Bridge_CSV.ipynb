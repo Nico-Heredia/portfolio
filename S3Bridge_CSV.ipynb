{
  "nbformat": 4,
  "nbformat_minor": 0,
  "metadata": {
    "colab": {
      "provenance": [],
      "authorship_tag": "ABX9TyNCDmaNLPwByWOfsGwNctkm",
      "include_colab_link": true
    },
    "kernelspec": {
      "name": "python3",
      "display_name": "Python 3"
    },
    "language_info": {
      "name": "python"
    }
  },
  "cells": [
    {
      "cell_type": "markdown",
      "metadata": {
        "id": "view-in-github",
        "colab_type": "text"
      },
      "source": [
        "<a href=\"https://colab.research.google.com/github/Nico-Heredia/portfolio/blob/main/S3Bridge_CSV.ipynb\" target=\"_parent\"><img src=\"https://colab.research.google.com/assets/colab-badge.svg\" alt=\"Open In Colab\"/></a>"
      ]
    },
    {
      "cell_type": "code",
      "source": [
        "import pandas as pd\n",
        "\n",
        "def download_csv_from_url(repo_url, file_name):\n",
        "    \"\"\"\n",
        "    Descargo un archivo CSV desde la URL proporcionada, lo guardo local, retorno un df.\n",
        "   Por problemas con detectar el delimitador treato con un for.\n",
        "    \"\"\"\n",
        "    separador = [',', ';', '\\t']\n",
        "    for sep in separador:\n",
        "        try:\n",
        "            df = pd.read_csv(repo_url, sep=sep)\n",
        "            df.to_csv(file_name, index=False)\n",
        "            print(f\"Archivo descargado y guardado como '{file_name}'\")\n",
        "            #f-string es un tipo de string en el cual le puedo meter una variable en medio\n",
        "            return df\n",
        "        except Exception as e:\n",
        "            continue\n",
        "    print(\"Error al leer el CSV: No se pudo detectar el formato correcto.\")\n",
        "    return None\n",
        "\n",
        "# URLs\n",
        "url_1 = \"https://.....\"\n",
        "\n",
        "\n",
        "# Descargo los archivos\n",
        "df_1 = download_csv_from_url(url_1, \"archivo.csv\")\n",
        "\n",
        "\n",
        "# Verifico si se descargo\n",
        "if df_1 is not None:\n",
        "    print(\"df_1:\")\n",
        "    display(df_1.head())\n",
        "\n",
        "\n",
        "\n"
      ],
      "metadata": {
        "id": "p4uJKJo7pNvd"
      },
      "execution_count": null,
      "outputs": []
    },
    {
      "cell_type": "code",
      "source": [
        "# Mini EDA\n",
        "print(f\"El dataset tiene {df_1.shape[0]} filas y {df_1.shape[1]} columnas. \\n\")\n",
        "\n",
        "#tipos\n",
        "print(\"\\n tip[o de datos:\")\n",
        "print(df_1.dtypes)\n",
        "\n",
        "#check nulos\n",
        "print(\"\\n Cantidad de nulos  por col:\")\n",
        "print(df_1.isnull().sum())\n",
        "\n",
        "#check dup\n",
        "print(\"\\n Cantidad de duplicados:\")\n",
        "print(df_1.duplicated().sum())\n",
        "\n"
      ],
      "metadata": {
        "id": "WVvezj_6pr4C"
      },
      "execution_count": null,
      "outputs": []
    },
    {
      "cell_type": "code",
      "source": [
        "#unicidad en 'show_id' y 'title'\n",
        "print(\"Valores unicos en 'campo_1':\", df_1['campo_1'].nunique())\n",
        "print(\"Total de filas:\", len(df_1))\n",
        "print(\"¿'campo_1' es unico?\", df_1['campo_1'].is_unique)\n",
        "\n",
        "print(\"\\nValores únicos en 'campo_2':\", df_1['campo_2'].nunique())\n",
        "print(\"Títulos repetidos:\")\n",
        "print(df_disney['campo_2'].value_counts().head(5))\n"
      ],
      "metadata": {
        "collapsed": true,
        "id": "-aRHNiB53pf_"
      },
      "execution_count": null,
      "outputs": []
    },
    {
      "cell_type": "code",
      "source": [
        "#genero columna \"X\" para poder diferenciar entre una y otra\n",
        "df_1[\"X\"] = \"contenido\"\n"
      ],
      "metadata": {
        "id": "oZIavqFagvMe"
      },
      "execution_count": null,
      "outputs": []
    },
    {
      "cell_type": "code",
      "source": [
        "print(\"df_1: \", df_1.columns)\n"
      ],
      "metadata": {
        "id": "DrKU0ug-hFOr"
      },
      "execution_count": null,
      "outputs": []
    },
    {
      "cell_type": "code",
      "source": [
        "#modifico el tipo de dato de algunos campos\n",
        "df_1[\"campo_1\"] = df_1[\"campo_1\"].astype(\"string\")\n",
        "df_1[\"campo_2\"] = df_1[\"campo_2\"].astype(\"string\")\n",
        "df_1[\"campo_3\"] = df_1[\"campo_3\"].astype(\"int\")\n",
        "df_1[\"campo_4\"] = df_1[\"campo_4\"].astype(\"int\")\n",
        "df_1[\"campo_5\"] = df_1[\"campo_5\"].astype(\"string\")\n",
        "df_1[\"campo_6\"] = pd.to_datetime(df_1[\"campo_6\"], format=\"%B %d, %Y\", errors=\"coerce\")\n"
      ],
      "metadata": {
        "id": "KmY7MItbIZKv"
      },
      "execution_count": null,
      "outputs": []
    },
    {
      "cell_type": "code",
      "source": [
        "#guardo el df final en colab\n",
        "df_1.to_csv(\"netflix.csv\", index=False)\n",
        "#descargo a local\n",
        "from google.colab import files\n",
        "files.download(\"df_1.csv\")\n"
      ],
      "metadata": {
        "colab": {
          "base_uri": "https://localhost:8080/",
          "height": 17
        },
        "id": "HU86qnEDjLj6",
        "outputId": "e702e9c4-1a75-4959-b8e4-3e2cb688f9d3"
      },
      "execution_count": null,
      "outputs": [
        {
          "output_type": "display_data",
          "data": {
            "text/plain": [
              "<IPython.core.display.Javascript object>"
            ],
            "application/javascript": [
              "\n",
              "    async function download(id, filename, size) {\n",
              "      if (!google.colab.kernel.accessAllowed) {\n",
              "        return;\n",
              "      }\n",
              "      const div = document.createElement('div');\n",
              "      const label = document.createElement('label');\n",
              "      label.textContent = `Downloading \"${filename}\": `;\n",
              "      div.appendChild(label);\n",
              "      const progress = document.createElement('progress');\n",
              "      progress.max = size;\n",
              "      div.appendChild(progress);\n",
              "      document.body.appendChild(div);\n",
              "\n",
              "      const buffers = [];\n",
              "      let downloaded = 0;\n",
              "\n",
              "      const channel = await google.colab.kernel.comms.open(id);\n",
              "      // Send a message to notify the kernel that we're ready.\n",
              "      channel.send({})\n",
              "\n",
              "      for await (const message of channel.messages) {\n",
              "        // Send a message to notify the kernel that we're ready.\n",
              "        channel.send({})\n",
              "        if (message.buffers) {\n",
              "          for (const buffer of message.buffers) {\n",
              "            buffers.push(buffer);\n",
              "            downloaded += buffer.byteLength;\n",
              "            progress.value = downloaded;\n",
              "          }\n",
              "        }\n",
              "      }\n",
              "      const blob = new Blob(buffers, {type: 'application/binary'});\n",
              "      const a = document.createElement('a');\n",
              "      a.href = window.URL.createObjectURL(blob);\n",
              "      a.download = filename;\n",
              "      div.appendChild(a);\n",
              "      a.click();\n",
              "      div.remove();\n",
              "    }\n",
              "  "
            ]
          },
          "metadata": {}
        },
        {
          "output_type": "display_data",
          "data": {
            "text/plain": [
              "<IPython.core.display.Javascript object>"
            ],
            "application/javascript": [
              "download(\"download_a8b3ddbe-d5c6-42c6-9a17-7e02845b66b6\", \"netflix.csv\", 3409490)"
            ]
          },
          "metadata": {}
        },
        {
          "output_type": "display_data",
          "data": {
            "text/plain": [
              "<IPython.core.display.Javascript object>"
            ],
            "application/javascript": [
              "\n",
              "    async function download(id, filename, size) {\n",
              "      if (!google.colab.kernel.accessAllowed) {\n",
              "        return;\n",
              "      }\n",
              "      const div = document.createElement('div');\n",
              "      const label = document.createElement('label');\n",
              "      label.textContent = `Downloading \"${filename}\": `;\n",
              "      div.appendChild(label);\n",
              "      const progress = document.createElement('progress');\n",
              "      progress.max = size;\n",
              "      div.appendChild(progress);\n",
              "      document.body.appendChild(div);\n",
              "\n",
              "      const buffers = [];\n",
              "      let downloaded = 0;\n",
              "\n",
              "      const channel = await google.colab.kernel.comms.open(id);\n",
              "      // Send a message to notify the kernel that we're ready.\n",
              "      channel.send({})\n",
              "\n",
              "      for await (const message of channel.messages) {\n",
              "        // Send a message to notify the kernel that we're ready.\n",
              "        channel.send({})\n",
              "        if (message.buffers) {\n",
              "          for (const buffer of message.buffers) {\n",
              "            buffers.push(buffer);\n",
              "            downloaded += buffer.byteLength;\n",
              "            progress.value = downloaded;\n",
              "          }\n",
              "        }\n",
              "      }\n",
              "      const blob = new Blob(buffers, {type: 'application/binary'});\n",
              "      const a = document.createElement('a');\n",
              "      a.href = window.URL.createObjectURL(blob);\n",
              "      a.download = filename;\n",
              "      div.appendChild(a);\n",
              "      a.click();\n",
              "      div.remove();\n",
              "    }\n",
              "  "
            ]
          },
          "metadata": {}
        },
        {
          "output_type": "display_data",
          "data": {
            "text/plain": [
              "<IPython.core.display.Javascript object>"
            ],
            "application/javascript": [
              "download(\"download_bb0dc617-b757-4935-bd25-0fed0de3d647\", \"disney.csv\", 382340)"
            ]
          },
          "metadata": {}
        }
      ]
    },
    {
      "cell_type": "markdown",
      "source": [],
      "metadata": {
        "id": "2ODYmMNhr3kt"
      }
    }
  ]
}